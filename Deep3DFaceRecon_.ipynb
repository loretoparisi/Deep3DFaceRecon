{
  "nbformat": 4,
  "nbformat_minor": 0,
  "metadata": {
    "colab": {
      "name": "Deep3DFaceRecon_.ipynb",
      "provenance": [],
      "collapsed_sections": []
    },
    "kernelspec": {
      "name": "python3",
      "display_name": "Python 3"
    },
    "language_info": {
      "name": "python"
    },
    "accelerator": "GPU"
  },
  "cells": [
    {
      "cell_type": "code",
      "metadata": {
        "id": "I0b1EMVOBSsV"
      },
      "source": [
        "!git clone https://github.com/sicxu/Deep3DFaceRecon_pytorch.git --recursive\n",
        "%cd Deep3DFaceRecon_pytorch"
      ],
      "execution_count": null,
      "outputs": []
    },
    {
      "cell_type": "code",
      "metadata": {
        "id": "JXuSvvOhBYNk"
      },
      "source": [
        "%cd /content/Deep3DFaceRecon_pytorch/nvdiffrast\n",
        "!python setup.py install"
      ],
      "execution_count": null,
      "outputs": []
    },
    {
      "cell_type": "code",
      "metadata": {
        "id": "ZoMkQro3Bl9Z"
      },
      "source": [
        "%cd /content/\n",
        "! rm -rf insightface\n",
        "! git clone https://github.com/deepinsight/insightface.git\n",
        "!cp -r ./insightface/recognition/arcface_torch /content/Deep3DFaceRecon_pytorch/models/"
      ],
      "execution_count": null,
      "outputs": []
    },
    {
      "cell_type": "code",
      "metadata": {
        "id": "vYJfe2oBGpAW"
      },
      "source": [
        "%cd /content/Deep3DFaceRecon_pytorch\n",
        "! pip install -r requirements.txt"
      ],
      "execution_count": null,
      "outputs": []
    },
    {
      "cell_type": "code",
      "metadata": {
        "id": "hDga9_TfGBVF"
      },
      "source": [
        "%cd /content/Deep3DFaceRecon_pytorch\n",
        "# get reconstruction results of your custom images\n",
        "!python test.py --name=my_model --epoch=20 --img_folder=test"
      ],
      "execution_count": null,
      "outputs": []
    },
    {
      "cell_type": "code",
      "metadata": {
        "id": "NHDncL58dN0F"
      },
      "source": [
        "# get reconstruction results of example images\n",
        "! python test.py --name=my_model--epoch=20 --img_folder=./datasets/examples"
      ],
      "execution_count": null,
      "outputs": []
    },
    {
      "cell_type": "code",
      "metadata": {
        "id": "DdgImN65Sr6g"
      },
      "source": [
        ""
      ],
      "execution_count": null,
      "outputs": []
    }
  ]
}